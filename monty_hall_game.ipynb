{
  "cells": [
    {
      "cell_type": "markdown",
      "metadata": {
        "id": "07Y_ONdkTQjR"
      },
      "source": [
        "# **Monty Hall game.  Retrieved from https://en.wikipedia.org/wiki/Monty_Hall_problem**\n"
      ]
    },
    {
      "cell_type": "markdown",
      "metadata": {
        "id": "lfLffNUWTQja"
      },
      "source": [
        "**Question**\n",
        "\n",
        "Given below is the description of the problem.  \n",
        "\n",
        "Suppose you're on a game show and you're given the choice of three doors.\n",
        "\n",
        "Behind one door is a car; behind the others, goats. The car and the goats were placed randomly behind the doors before the show.\n",
        "\n",
        "The rules are:\n",
        "\n",
        "After you have chosen a door, the door remains closed for the time being.\n",
        "The game show host, Monty Hall, who knows what is behind the doors, now has to open one of the two remaining doors, and the door he opens must have a goat behind it. If both remaining doors have goats behind them, he chooses one randomly.\n",
        "\n",
        "After Monty opens a door with a goat, he will ask you to decide whether you want to stay with your first choice or to switch to the last remaining door.\n",
        "Imagine that you chose Door 1 and the host opens Door 3, which has a goat.\n",
        "He then asks you \"Do you want to switch to Door Number 2?\" Is it to your advantage to change your choice?\n",
        "\n",
        "**NOTES:**\n",
        "1. The player may initially choose any of the three doors (not just Door 1).\n",
        "2. The host opens a different door revealing a goat (not necessarily Door 3).\n",
        "3. The host gives the player a second choice between the two remaining unopened doors.\n"
      ]
    },
    {
      "cell_type": "markdown",
      "metadata": {
        "id": "L041acdjTQjb"
      },
      "source": [
        "![image.png](data:image/png;base64,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)\n",
        "\n",
        "(Source: https://en.wikipedia.org/wiki/Monty_Hall_problem#)"
      ]
    },
    {
      "cell_type": "markdown",
      "metadata": {
        "id": "dAuGtwxzTQje"
      },
      "source": [
        "# **Simulate at least a thousand games using three doors for each strategy and show the results in such a way as to make it easy to compare the effects of each strategy.**\n"
      ]
    },
    {
      "cell_type": "code",
      "source": [
        "import random"
      ],
      "metadata": {
        "id": "fe4N5BQLSFKP"
      },
      "execution_count": null,
      "outputs": []
    },
    {
      "cell_type": "code",
      "execution_count": null,
      "metadata": {
        "id": "TMN-iXrY7DHb"
      },
      "outputs": [],
      "source": [
        "def mhp_simulation(n):\n",
        "    stay_wins = 0\n",
        "    switch_wins = 0\n",
        "\n",
        "    for _ in range(n):\n",
        "        doors = [0, 0, 0]  #0 represents a goat\n",
        "        car = random.randint(0, 2)\n",
        "        doors[car] = 1  #1 represents the car\n",
        "\n",
        "        #The player's first choice\n",
        "        first_choice = random.randint(0, 2)\n",
        "\n",
        "        #Determine a door with a goat to open\n",
        "        open_door_indices = [i for i in range(3) if i != first_choice and doors[i] == 0]\n",
        "        opened_door = random.choice(open_door_indices)\n",
        "\n",
        "        #Determine the remaining door after switching\n",
        "        remaining_door = [i for i in range(3) if i != first_choice and i != opened_door][0]\n",
        "\n",
        "        #Count if the player wins by staying with the initial choice\n",
        "        if doors[first_choice] == 1:\n",
        "            stay_wins += 1\n",
        "\n",
        "        #Count if the player wins by switching doors\n",
        "        if doors[remaining_door] == 1:\n",
        "            switch_wins += 1\n",
        "\n",
        "    return stay_wins, switch_wins"
      ]
    },
    {
      "cell_type": "code",
      "source": [
        "#Simultate 1000 times\n",
        "n = 1000\n",
        "stay_wins, switch_wins = mhp_simulation(n)\n",
        "print(\"Simulation Completed\")"
      ],
      "metadata": {
        "colab": {
          "base_uri": "https://localhost:8080/"
        },
        "id": "YXZgcnnNSgkj",
        "outputId": "61b1c400-bbdd-4c73-8da6-8e7952c288d2"
      },
      "execution_count": null,
      "outputs": [
        {
          "output_type": "stream",
          "name": "stdout",
          "text": [
            "Simulation Completed\n"
          ]
        }
      ]
    },
    {
      "cell_type": "code",
      "source": [
        "#Show the result\n",
        "print(f\"Results after simulating {n} games:\")\n",
        "print(\"Strategy 1: Wins by staying with initial choice:\", stay_wins)\n",
        "print(\"Strategy 2: Wins by switching doors:\", switch_wins)"
      ],
      "metadata": {
        "colab": {
          "base_uri": "https://localhost:8080/"
        },
        "id": "PGmdb6OYVGPy",
        "outputId": "415cae6a-83b6-4022-bee0-1cd2d6c5c20d"
      },
      "execution_count": null,
      "outputs": [
        {
          "output_type": "stream",
          "name": "stdout",
          "text": [
            "Results after simulating 1000 games:\n",
            "Strategy 1: Wins by staying with initial choice: 347\n",
            "Strategy 2: Wins by switching doors: 653\n"
          ]
        }
      ]
    }
  ],
  "metadata": {
    "colab": {
      "provenance": []
    },
    "kernelspec": {
      "display_name": "Python 3",
      "language": "python",
      "name": "python3"
    },
    "language_info": {
      "codemirror_mode": {
        "name": "ipython",
        "version": 3
      },
      "file_extension": ".py",
      "mimetype": "text/x-python",
      "name": "python",
      "nbconvert_exporter": "python",
      "pygments_lexer": "ipython3",
      "version": "3.8.5"
    }
  },
  "nbformat": 4,
  "nbformat_minor": 0
}